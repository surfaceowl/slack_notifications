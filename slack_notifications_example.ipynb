{
 "cells": [
  {
   "cell_type": "markdown",
   "metadata": {
    "ExecuteTime": {
     "end_time": "2019-01-23T23:41:10.161340Z",
     "start_time": "2019-01-23T23:41:10.157829Z"
    }
   },
   "source": [
    "### This notebook illustrates use of slackclient api to post message to private slack workgroups\n",
    "\n",
    "### including correct formatting for attachments json\n",
    "\n",
    "**slack documentation:**\n",
    "slackclient pypi repo:  https://github.com/slackapi/python-slackclient\n",
    "slackclient python docs:  https://slackapi.github.io/python-slackclient/\n",
    "\n",
    "### SETUP - slack\n",
    "create new webhook, get slack api token of the form *`xoxp-####-####-####-####`*\n",
    "\n",
    "on slack website, configure webhook or bot setup, including permissions and channels\n",
    "for basic messaging - slack bot must have user:read and user:write permissions\n",
    "to get channel id for channel you want to write to; \n",
    "from slack, right click on channel and `open link`; \n",
    "last part of the URL in browser is the channel ID\n",
    "\n",
    "### SETUP - environment\n",
    "put confidential slack info in environment variables, not jupyter notebook\n",
    "\n",
    "create env var named `SLACK_API_TOKEN`; value = token from slack\n",
    "\n",
    "create env var named `SLACK_CHANNEL_ID`; value = channel ID you want to write to in slack\n"
   ]
  },
  {
   "cell_type": "code",
   "execution_count": 1,
   "metadata": {
    "ExecuteTime": {
     "end_time": "2019-02-11T22:18:50.386219Z",
     "start_time": "2019-02-11T22:18:49.700221Z"
    }
   },
   "outputs": [],
   "source": [
    "import os\n",
    "from slackclient import SlackClient\n",
    "token = os.environ['SLACK_API_TOKEN']\n",
    "channel_id = os.environ['SLACK_CHANNEL_ID']\n",
    "\n",
    "import datetime\n",
    "import json"
   ]
  },
  {
   "cell_type": "code",
   "execution_count": 2,
   "metadata": {
    "ExecuteTime": {
     "end_time": "2019-02-11T22:18:50.974219Z",
     "start_time": "2019-02-11T22:18:50.966223Z"
    }
   },
   "outputs": [
    {
     "data": {
      "text/plain": [
       "True"
      ]
     },
     "execution_count": 2,
     "metadata": {},
     "output_type": "execute_result"
    }
   ],
   "source": [
    "# confirm token exists in current system\n",
    "'SLACK_API_TOKEN' in os.environ"
   ]
  },
  {
   "cell_type": "code",
   "execution_count": 3,
   "metadata": {
    "ExecuteTime": {
     "end_time": "2019-02-11T22:18:51.866220Z",
     "start_time": "2019-02-11T22:18:51.863218Z"
    }
   },
   "outputs": [
    {
     "data": {
      "text/plain": [
       "True"
      ]
     },
     "execution_count": 3,
     "metadata": {},
     "output_type": "execute_result"
    }
   ],
   "source": [
    "# confirm channel ID exists in current system \n",
    "'SLACK_CHANNEL_ID' in os.environ"
   ]
  },
  {
   "cell_type": "code",
   "execution_count": 4,
   "metadata": {
    "ExecuteTime": {
     "end_time": "2019-02-11T22:18:53.273228Z",
     "start_time": "2019-02-11T22:18:52.940221Z"
    }
   },
   "outputs": [
    {
     "name": "stdout",
     "output_type": "stream",
     "text": [
      "True\n"
     ]
    }
   ],
   "source": [
    "# test slack API + token to confirm working authentication\n",
    "# should return json with 'ok': True as first element\n",
    "sc = SlackClient(token)\n",
    "print(sc.api_call(\"api.test\")['ok'])    # just print first element of tuple, to keep confidential info secret"
   ]
  },
  {
   "cell_type": "code",
   "execution_count": 54,
   "metadata": {
    "ExecuteTime": {
     "end_time": "2019-02-11T23:49:13.329974Z",
     "start_time": "2019-02-11T23:49:13.326967Z"
    }
   },
   "outputs": [],
   "source": [
    "# define function to post slack message with api\n",
    "\n",
    "def slack_message(message, attachments, channel_id):\n",
    "    sc = SlackClient(token)\n",
    "    sc.api_call('chat.postMessage', \n",
    "                text=message,\n",
    "                attachments = attachments,\n",
    "                channel=channel_id, \n",
    "                username='surfaceowl',\n",
    "                icon_emoji=':robot_face:')\n",
    "\n"
   ]
  },
  {
   "cell_type": "code",
   "execution_count": 57,
   "metadata": {
    "ExecuteTime": {
     "end_time": "2019-02-11T23:49:48.750969Z",
     "start_time": "2019-02-11T23:49:48.493970Z"
    }
   },
   "outputs": [],
   "source": [
    "# create date and day flags for custom message\n",
    "date = datetime.datetime.now().strftime(\"%x\")\n",
    "day_of_week = datetime.datetime.now().strftime(\"%A\")\n",
    "\n",
    "# define message using f-strings and send\n",
    "custom_message = f\"manual test of slackclient in jupyter notebook sent on { day_of_week }, { date}\"\n",
    "slack_message(custom_message, [], channel_id, )\n"
   ]
  },
  {
   "cell_type": "code",
   "execution_count": 27,
   "metadata": {
    "ExecuteTime": {
     "end_time": "2019-02-11T23:17:54.628499Z",
     "start_time": "2019-02-11T23:17:54.349473Z"
    }
   },
   "outputs": [],
   "source": [
    "custom_message = f\"*bold text* and _italics text_ test with slackclient in jupyter notebook sent on { day_of_week }, { date}\"\n",
    "slack_message(custom_message, [], channel_id)"
   ]
  },
  {
   "cell_type": "code",
   "execution_count": 21,
   "metadata": {
    "ExecuteTime": {
     "end_time": "2019-02-11T23:16:48.596482Z",
     "start_time": "2019-02-11T23:16:48.282473Z"
    },
    "scrolled": false
   },
   "outputs": [],
   "source": [
    "sc.api_call(\"channels.list\");"
   ]
  },
  {
   "cell_type": "code",
   "execution_count": 22,
   "metadata": {
    "ExecuteTime": {
     "end_time": "2019-02-11T23:16:50.159476Z",
     "start_time": "2019-02-11T23:16:49.890472Z"
    }
   },
   "outputs": [],
   "source": [
    "# add emoji - `reactions.add does not work; so just use unicode and slack will translate\n",
    "# emoji cheat sheet:  https://www.webfx.com/tools/emoji-cheat-sheet/\n",
    "slack_message(\":zap: :ghost: :high_brightness: :rocket: :twisted_rightwards_arrows: :signal_strength: :leo: :bangbang:\", [], channel_id)"
   ]
  },
  {
   "cell_type": "raw",
   "metadata": {},
   "source": [
    "### Working - attachments"
   ]
  },
  {
   "cell_type": "code",
   "execution_count": 60,
   "metadata": {
    "ExecuteTime": {
     "end_time": "2019-02-11T23:57:23.910707Z",
     "start_time": "2019-02-11T23:57:23.646710Z"
    }
   },
   "outputs": [
    {
     "name": "stdout",
     "output_type": "stream",
     "text": [
      "\"[{\\\"text\\\":\\\"test text\\\",\\\"title\\\":\\\"test json attachment\\\",\\\"fallback\\\":\\\"Fallback text in slack **[Urgent]**: <https://surfaceowl.com|Test out Slack message attachments>\\\",\\\"pretext\\\":\\\"Pretext field fills this spot *[Urgent]*: <https://surfaceowl.com>\\\",\\\"color\\\":\\\"#7CD197\\\",\\\"fields\\\":{\\\"title\\\":\\\"Surface Owl's site\\\",\\\"title_link\\\":\\\"https://surfaceowl.com\\\",\\\"value\\\":\\\"A very powerful application, companies should by this now\\\",\\\"short\\\":\\\"false\\\"},\\\"mrkdwn_in\\\":[\\\"title\\\",\\\"pretext\\\"]}]\"\n"
     ]
    }
   ],
   "source": [
    "# test sending message attachments (e.g. with JSON input)\n",
    "\n",
    "# setup test message input\n",
    "# \"fallback\" is a required entry by slack\n",
    "\n",
    "# define sample test message as dictionary\n",
    "message_text = f\"*test message on { date }* :rocket::rocket::rocket:\"\n",
    "\n",
    "# NOTE:  slackclient library wraps the text below with: { \"attachments\": ...}\n",
    "# https://stackoverflow.com/questions/41776070/slack-api-attatchments-from-custom-bot-post-as-plain-text\n",
    "attachment_json = [{\n",
    "         \"text\": \"test text\",\n",
    "         \"title\": \"test json attachment\",\n",
    "         \"fallback\": \"Fallback text in slack *[Urgent]*: <https://surfaceowl.com|Test out Slack message attachments>\",\n",
    "         \"pretext\": \"Pretext field fills this spot *[Urgent]*: <https://surfaceowl.com>\",\n",
    "         \"color\": \"#7CD197\",\n",
    "         \"fields\": \n",
    "            {\n",
    "               \"title\": \"Surface Owl's site\",\n",
    "               \"title_link\": \"https://surfaceowl.com\",\n",
    "               \"value\": \"A very powerful application, companies should by this now\",\n",
    "               \"short\": \"false\"\n",
    "            },\n",
    "         \"mrkdwn_in\": [\n",
    "                \"title\",\n",
    "                \"pretext\"\n",
    "            ]\n",
    "      }]\n",
    "\n",
    "\n",
    "# convert test message to json\n",
    "json_test_message = json.dumps(attachment_json, separators=(',',':'))\n",
    "# json_test_message = json.loads(attachment_json)\n",
    "\n",
    "print(json.dumps(json_test_message))\n",
    "\n",
    "# send message\n",
    "slack_message(message_text, attachment_json, channel_id)"
   ]
  },
  {
   "cell_type": "code",
   "execution_count": 61,
   "metadata": {
    "ExecuteTime": {
     "end_time": "2019-02-12T00:00:06.177714Z",
     "start_time": "2019-02-12T00:00:05.852710Z"
    }
   },
   "outputs": [],
   "source": [
    "message_text = \"test message #47\"\n",
    "test_message = [\n",
    "    {\n",
    "            \"fallback\": \"Required plain-text summary of the attachment.\",\n",
    "            \"color\": \"#2eb886\",\n",
    "            \"pretext\": \"Optional text that appears above the attachment block\",\n",
    "            \"author_name\": \"Bobby Tables\",\n",
    "            \"author_link\": \"http://flickr.com/bobby/\",\n",
    "            \"author_icon\": \"http://flickr.com/icons/bobby.jpg\",\n",
    "            \"title\": \"Slack API Documentation\",\n",
    "            \"title_link\": \"https://api.slack.com/\",\n",
    "            \"text\": \"Optional text that appears within the attachment\",\n",
    "            \"fields\": [\n",
    "                {\n",
    "                    \"title\": \"Priority\",\n",
    "                    \"value\": \"High\",\n",
    "                    \"short\": \"false\"\n",
    "                }\n",
    "            ],\n",
    "            \"image_url\": \"http://my-website.com/path/to/image.jpg\",\n",
    "            \"thumb_url\": \"http://example.com/path/to/thumb.png\",\n",
    "            \"footer\": \"Slack API\",\n",
    "            \"footer_icon\": \"https://platform.slack-edge.com/img/default_application_icon.png\",\n",
    "            \"ts\": 123456789\n",
    "}\n",
    "]\n",
    "\n",
    "slack_message(message_text, attachment_json, channel_id)"
   ]
  },
  {
   "cell_type": "code",
   "execution_count": 13,
   "metadata": {
    "ExecuteTime": {
     "end_time": "2019-01-23T23:52:51.455674Z",
     "start_time": "2019-01-23T23:52:51.191669Z"
    }
   },
   "outputs": [],
   "source": [
    "slack_message(json_test_message, channel_id)"
   ]
  },
  {
   "cell_type": "code",
   "execution_count": null,
   "metadata": {},
   "outputs": [],
   "source": []
  }
 ],
 "metadata": {
  "kernelspec": {
   "display_name": "Python 3",
   "language": "python",
   "name": "python3"
  },
  "language_info": {
   "codemirror_mode": {
    "name": "ipython",
    "version": 3
   },
   "file_extension": ".py",
   "mimetype": "text/x-python",
   "name": "python",
   "nbconvert_exporter": "python",
   "pygments_lexer": "ipython3",
   "version": "3.7.2"
  },
  "toc": {
   "base_numbering": 1,
   "nav_menu": {},
   "number_sections": true,
   "sideBar": true,
   "skip_h1_title": false,
   "title_cell": "Table of Contents",
   "title_sidebar": "Contents",
   "toc_cell": false,
   "toc_position": {},
   "toc_section_display": true,
   "toc_window_display": true
  },
  "varInspector": {
   "cols": {
    "lenName": 16,
    "lenType": 16,
    "lenVar": 40
   },
   "kernels_config": {
    "python": {
     "delete_cmd_postfix": "",
     "delete_cmd_prefix": "del ",
     "library": "var_list.py",
     "varRefreshCmd": "print(var_dic_list())"
    },
    "r": {
     "delete_cmd_postfix": ") ",
     "delete_cmd_prefix": "rm(",
     "library": "var_list.r",
     "varRefreshCmd": "cat(var_dic_list()) "
    }
   },
   "types_to_exclude": [
    "module",
    "function",
    "builtin_function_or_method",
    "instance",
    "_Feature"
   ],
   "window_display": false
  }
 },
 "nbformat": 4,
 "nbformat_minor": 2
}
