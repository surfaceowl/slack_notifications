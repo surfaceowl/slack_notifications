{
 "cells": [
  {
   "cell_type": "markdown",
   "metadata": {
    "ExecuteTime": {
     "end_time": "2019-01-23T23:41:10.161340Z",
     "start_time": "2019-01-23T23:41:10.157829Z"
    }
   },
   "source": [
    "### This notebook illustrates use of slackclient api to post message to private slack workgroups\n",
    "\n",
    "**slack documentation:**\n",
    "slackclient pypi repo:  https://github.com/slackapi/python-slackclient\n",
    "slackclient python docs:  https://slackapi.github.io/python-slackclient/\n",
    "\n",
    "### SETUP - slack\n",
    "create new webhook, get slack api token of the form *`xoxp-####-####-####-####`*\n",
    "\n",
    "on slack website, configure webhook or bot setup, including permissions and channels\n",
    "for basic messaging - slack bot must have user:read and user:write permissions\n",
    "to get channel id for channel you want to write to; \n",
    "from slack, right click on channel and `open link`; \n",
    "last part of the URL in browser is the channel ID\n",
    "\n",
    "### SETUP - environment\n",
    "put confidential slack info in environment variables, not jupyter notebook\n",
    "\n",
    "create env var named `SLACK_API_TOKEN`; value = token from slack\n",
    "\n",
    "create env var named `SLACK_CHANNEL_ID`; value = channel ID you want to write to in slack\n"
   ]
  },
  {
   "cell_type": "code",
   "execution_count": 1,
   "metadata": {
    "ExecuteTime": {
     "end_time": "2019-01-25T02:10:36.100041Z",
     "start_time": "2019-01-25T02:10:35.793028Z"
    }
   },
   "outputs": [],
   "source": [
    "import os\n",
    "from slackclient import SlackClient\n",
    "token = os.environ['SLACK_API_TOKEN']\n",
    "channel_id = os.environ['SLACK_CHANNEL_ID']\n",
    "\n",
    "import datetime\n",
    "import json"
   ]
  },
  {
   "cell_type": "code",
   "execution_count": 2,
   "metadata": {
    "ExecuteTime": {
     "end_time": "2019-01-25T02:10:36.906998Z",
     "start_time": "2019-01-25T02:10:36.894028Z"
    }
   },
   "outputs": [
    {
     "data": {
      "text/plain": [
       "True"
      ]
     },
     "execution_count": 2,
     "metadata": {},
     "output_type": "execute_result"
    }
   ],
   "source": [
    "# confirm token exists in current system\n",
    "'SLACK_API_TOKEN' in os.environ"
   ]
  },
  {
   "cell_type": "code",
   "execution_count": 3,
   "metadata": {
    "ExecuteTime": {
     "end_time": "2019-01-25T02:10:37.604998Z",
     "start_time": "2019-01-25T02:10:37.599027Z"
    }
   },
   "outputs": [
    {
     "data": {
      "text/plain": [
       "True"
      ]
     },
     "execution_count": 3,
     "metadata": {},
     "output_type": "execute_result"
    }
   ],
   "source": [
    "# confirm channel ID exists in current system \n",
    "'SLACK_CHANNEL_ID' in os.environ"
   ]
  },
  {
   "cell_type": "code",
   "execution_count": 4,
   "metadata": {
    "ExecuteTime": {
     "end_time": "2019-01-25T02:10:38.591979Z",
     "start_time": "2019-01-25T02:10:38.311000Z"
    }
   },
   "outputs": [
    {
     "name": "stdout",
     "output_type": "stream",
     "text": [
      "True\n"
     ]
    }
   ],
   "source": [
    "# test slack API + token to confirm working authentication\n",
    "# should return json with 'ok': True as first element\n",
    "sc = SlackClient(token)\n",
    "print(sc.api_call(\"api.test\")['ok'])    # just print first element of tuple, to keep confidential info secret"
   ]
  },
  {
   "cell_type": "code",
   "execution_count": 7,
   "metadata": {
    "ExecuteTime": {
     "end_time": "2019-01-25T02:11:05.047623Z",
     "start_time": "2019-01-25T02:11:05.041651Z"
    }
   },
   "outputs": [],
   "source": [
    "# define function to post slack message with api\n",
    "\n",
    "def slack_message(message, attachments, channel_id):\n",
    "    sc = SlackClient(token)\n",
    "    sc.api_call('chat.postMessage', \n",
    "                channel=channel_id, \n",
    "                text=message,\n",
    "                attachments = attachments,\n",
    "                username='surfaceowl',\n",
    "                icon_emoji=':robot_face:')\n",
    "\n"
   ]
  },
  {
   "cell_type": "code",
   "execution_count": 9,
   "metadata": {
    "ExecuteTime": {
     "end_time": "2019-01-25T02:11:20.907867Z",
     "start_time": "2019-01-25T02:11:20.556883Z"
    }
   },
   "outputs": [],
   "source": [
    "# create date and day flags for custom message\n",
    "date = datetime.datetime.now().strftime(\"%x\")\n",
    "day_of_week = datetime.datetime.now().strftime(\"%A\")\n",
    "\n",
    "# define message using f-strings and send\n",
    "custom_message = f\"manual test of slackclient in jupyter notebook sent on { day_of_week }, { date}\"\n",
    "slack_message(custom_message, [], channel_id)\n"
   ]
  },
  {
   "cell_type": "code",
   "execution_count": 10,
   "metadata": {
    "ExecuteTime": {
     "end_time": "2019-01-25T02:11:34.884817Z",
     "start_time": "2019-01-25T02:11:34.637323Z"
    },
    "scrolled": false
   },
   "outputs": [],
   "source": [
    "sc.api_call(\"channels.list\");"
   ]
  },
  {
   "cell_type": "code",
   "execution_count": 12,
   "metadata": {
    "ExecuteTime": {
     "end_time": "2019-01-25T02:11:53.169192Z",
     "start_time": "2019-01-25T02:11:52.929188Z"
    }
   },
   "outputs": [],
   "source": [
    "# add emoji - `reactions.add does not work; so just use unicode and slack will translate\n",
    "# emoji cheat sheet:  https://www.webfx.com/tools/emoji-cheat-sheet/\n",
    "slack_message(\":zap: :ghost: :high_brightness: :rocket: :twisted_rightwards_arrows: :signal_strength: :leo: :bangbang:\", [], channel_id)"
   ]
  },
  {
   "cell_type": "raw",
   "metadata": {},
   "source": [
    "### Working - attachments"
   ]
  },
  {
   "cell_type": "code",
   "execution_count": 22,
   "metadata": {
    "ExecuteTime": {
     "end_time": "2019-01-25T02:19:27.002102Z",
     "start_time": "2019-01-25T02:19:26.729125Z"
    }
   },
   "outputs": [
    {
     "name": "stdout",
     "output_type": "stream",
     "text": [
      "\"{\\\"attachments\\\":{\\\"fallback\\\":\\\"Fallback text in slack **[Urgent]**: <https://surfaceowl.com|Test out Slack message attachments>\\\",\\\"pretext\\\":\\\"Pretext field fills this spot *[Urgent]*: <https://surfaceowl.com>\\\",\\\"color\\\":\\\"#7CD197\\\",\\\"fields\\\":{\\\"title\\\":\\\"Surface Owl's site\\\",\\\"title_link\\\":\\\"https://surfaceowl.com\\\",\\\"value\\\":\\\"A very powerful application, companies should by this now\\\",\\\"short\\\":\\\"false\\\"},\\\"mrkdwn_in\\\":[\\\"title\\\",\\\"pretext\\\"]}}\"\n"
     ]
    }
   ],
   "source": [
    "# test sending message attachments (e.g. with JSON input)\n",
    "\n",
    "# setup test message input\n",
    "# \"fallback\" is a required entry by slack\n",
    "\n",
    "# define sample test message as dictionary\n",
    "message_text = \"**test message #49** :rocket::rocket::rocket::rocket::rocket:\"\n",
    "attachment_json = {\n",
    "   \"attachments\":\n",
    "      {\n",
    "         \"fallback\": \"Fallback text in slack **[Urgent]**: <https://surfaceowl.com|Test out Slack message attachments>\",\n",
    "         \"pretext\": \"Pretext field fills this spot *[Urgent]*: <https://surfaceowl.com>\",\n",
    "         \"color\": \"#7CD197\",\n",
    "         \"fields\": \n",
    "            {\n",
    "               \"title\": \"Surface Owl's site\",\n",
    "               \"title_link\": \"https://surfaceowl.com\",\n",
    "               \"value\": \"A very powerful application, companies should by this now\",\n",
    "               \"short\": \"false\"\n",
    "            },\n",
    "         \"mrkdwn_in\": [\n",
    "                \"title\",\n",
    "                \"pretext\"\n",
    "            ]\n",
    "      }\n",
    "    }\n",
    "\n",
    "# convert test message to json\n",
    "json_test_message = json.dumps(attachment_json, separators=(',',':'))\n",
    "\n",
    "print(json.dumps(json_test_message))\n",
    "\n",
    "# send message\n",
    "slack_message(message_text, json_test_message, channel_id)"
   ]
  },
  {
   "cell_type": "code",
   "execution_count": 20,
   "metadata": {
    "ExecuteTime": {
     "end_time": "2019-01-25T02:16:54.126243Z",
     "start_time": "2019-01-25T02:16:53.855265Z"
    }
   },
   "outputs": [],
   "source": [
    "\n"
   ]
  },
  {
   "cell_type": "code",
   "execution_count": 17,
   "metadata": {
    "ExecuteTime": {
     "end_time": "2019-01-25T02:14:24.128263Z",
     "start_time": "2019-01-25T02:14:23.787265Z"
    }
   },
   "outputs": [
    {
     "name": "stdout",
     "output_type": "stream",
     "text": [
      "\"{\\\"attachments\\\":[{\\\"fallback\\\":\\\"Required plain-text summary of the attachment.\\\",\\\"color\\\":\\\"#2eb886\\\",\\\"pretext\\\":\\\"Optional text that appears above the attachment block\\\",\\\"author_name\\\":\\\"Bobby Tables\\\",\\\"author_link\\\":\\\"http://flickr.com/bobby/\\\",\\\"author_icon\\\":\\\"http://flickr.com/icons/bobby.jpg\\\",\\\"title\\\":\\\"Slack API Documentation\\\",\\\"title_link\\\":\\\"https://api.slack.com/\\\",\\\"text\\\":\\\"Optional text that appears within the attachment\\\",\\\"fields\\\":[{\\\"title\\\":\\\"Priority\\\",\\\"value\\\":\\\"High\\\",\\\"short\\\":\\\"false\\\"}],\\\"image_url\\\":\\\"http://my-website.com/path/to/image.jpg\\\",\\\"thumb_url\\\":\\\"http://example.com/path/to/thumb.png\\\",\\\"footer\\\":\\\"Slack API\\\",\\\"footer_icon\\\":\\\"https://platform.slack-edge.com/img/default_application_icon.png\\\",\\\"ts\\\":123456789}]}\"\n"
     ]
    }
   ],
   "source": [
    "# test sending message attachments (e.g. with JSON input)\n",
    "\n",
    "# setup test message input\n",
    "# \"fallback\" is a required entry by slack\n",
    "\n",
    "import json\n",
    "\n",
    "# define sample test message as dictionary\n",
    "test_message = {\n",
    "    \"attachments\": [\n",
    "        {\n",
    "            \"fallback\": \"Required plain-text summary of the attachment.\",\n",
    "            \"color\": \"#2eb886\",\n",
    "            \"pretext\": \"Optional text that appears above the attachment block\",\n",
    "            \"author_name\": \"Bobby Tables\",\n",
    "            \"author_link\": \"http://flickr.com/bobby/\",\n",
    "            \"author_icon\": \"http://flickr.com/icons/bobby.jpg\",\n",
    "            \"title\": \"Slack API Documentation\",\n",
    "            \"title_link\": \"https://api.slack.com/\",\n",
    "            \"text\": \"Optional text that appears within the attachment\",\n",
    "            \"fields\": [\n",
    "                {\n",
    "                    \"title\": \"Priority\",\n",
    "                    \"value\": \"High\",\n",
    "                    \"short\": \"false\"\n",
    "                }\n",
    "            ],\n",
    "            \"image_url\": \"http://my-website.com/path/to/image.jpg\",\n",
    "            \"thumb_url\": \"http://example.com/path/to/thumb.png\",\n",
    "            \"footer\": \"Slack API\",\n",
    "            \"footer_icon\": \"https://platform.slack-edge.com/img/default_application_icon.png\",\n",
    "            \"ts\": 123456789\n",
    "        }\n",
    "    ]\n",
    "}\n",
    "\n",
    "# convert test message to json\n",
    "json_test_message = json.dumps(test_message, separators=(',',':'))\n",
    "\n",
    "print(json.dumps(json_test_message))\n",
    "slack_message(test_message, json_test_message, channel_id)"
   ]
  },
  {
   "cell_type": "code",
   "execution_count": 18,
   "metadata": {
    "ExecuteTime": {
     "end_time": "2019-01-25T02:16:04.753604Z",
     "start_time": "2019-01-25T02:16:04.452593Z"
    }
   },
   "outputs": [],
   "source": [
    "message_text = \"test message #47\"\n",
    "test_message = {\n",
    "    \"attachments\": [\n",
    "        {\n",
    "            \"fallback\": \"Required plain-text summary of the attachment.\",\n",
    "            \"color\": \"#2eb886\",\n",
    "            \"pretext\": \"Optional text that appears above the attachment block\",\n",
    "            \"author_name\": \"Bobby Tables\",\n",
    "            \"author_link\": \"http://flickr.com/bobby/\",\n",
    "            \"author_icon\": \"http://flickr.com/icons/bobby.jpg\",\n",
    "            \"title\": \"Slack API Documentation\",\n",
    "            \"title_link\": \"https://api.slack.com/\",\n",
    "            \"text\": \"Optional text that appears within the attachment\",\n",
    "            \"fields\": [\n",
    "                {\n",
    "                    \"title\": \"Priority\",\n",
    "                    \"value\": \"High\",\n",
    "                    \"short\": \"false\"\n",
    "                }\n",
    "            ],\n",
    "            \"image_url\": \"http://my-website.com/path/to/image.jpg\",\n",
    "            \"thumb_url\": \"http://example.com/path/to/thumb.png\",\n",
    "            \"footer\": \"Slack API\",\n",
    "            \"footer_icon\": \"https://platform.slack-edge.com/img/default_application_icon.png\",\n",
    "            \"ts\": 123456789\n",
    "        }\n",
    "    ]\n",
    "}\n",
    "\n",
    "slack_message(message_text, attachment_json, channel_id)"
   ]
  },
  {
   "cell_type": "markdown",
   "metadata": {},
   "source": [
    "### break here \n"
   ]
  },
  {
   "cell_type": "code",
   "execution_count": 12,
   "metadata": {
    "ExecuteTime": {
     "end_time": "2019-01-23T23:52:47.832327Z",
     "start_time": "2019-01-23T23:52:47.824318Z"
    }
   },
   "outputs": [
    {
     "name": "stdout",
     "output_type": "stream",
     "text": [
      "\"{\\\"attachments\\\":[{\\\"fallback\\\":\\\"Required plain-text summary of the attachment (json)\\\",\\\"color\\\":\\\"#warning\\\",\\\"pretext\\\":\\\"Optional text that appears above the attachment block\\\",\\\"author_link\\\":\\\"https://surfaceowl.com\\\",\\\"author_icon\\\":\\\"https://surfaceowl.com/assets/img/surfaceowl-logo.png\\\",\\\"title\\\":\\\"Surface Owl visual decision engine\\\",\\\"title_link\\\":\\\"https://surfaceowl.com\\\",\\\"text\\\":\\\"Optional text that appears within the attachment\\\",\\\"fields\\\":[{\\\"title\\\":\\\"Priority\\\",\\\"value\\\":\\\"High\\\",\\\"short\\\":\\\"true\\\"}],\\\"image_url\\\":\\\"https://surfaceowl.com/assets/img/surfaceowl.lockup.gradient.no.tagline.png\\\",\\\"thumb_url\\\":\\\"https://surfaceowl.com/assets/img/surfaceowl.lockup.gradient.no.tagline.png\\\",\\\"footer\\\":\\\"Surface Owl site\\\",\\\"footer_icon\\\":\\\"https://surfaceowl.com/assets/img/surfaceowl.lockup.gradient.no.tagline.png\\\"}]}\"\n"
     ]
    }
   ],
   "source": [
    "# displays correctly in message builder, but not in slack client when sent directly\n",
    "\n",
    "# test sending message attachments (e.g. with JSON input)\n",
    "\n",
    "# setup test message input\n",
    "# \"fallback\" is a required entry by slack\n",
    "# attachment parameters docs:  https://api.slack.com/docs/message-attachments\n",
    "# sites to test slack inputs:\n",
    "# message builder:  display of attachment structures:  https://api.slack.com/docs/messages/builder\n",
    "# chat.postMessage webform:  https://api.slack.com/methods/chat.postMessage/test\n",
    "\n",
    "import json\n",
    "\n",
    "# define sample test message as dictionary\n",
    "test_message = {\n",
    "  \"attachments\": [\n",
    "    {\n",
    "      \"fallback\": \"Required plain-text summary of the attachment (json)\",\n",
    "      \"color\": \"#warning\",\n",
    "      \"pretext\": \"Optional text that appears above the attachment block\",\n",
    "      \"author_link\": \"https://surfaceowl.com\",\n",
    "      \"author_icon\": \"https://surfaceowl.com/assets/img/surfaceowl-logo.png\",\n",
    "      \"title\": \"Surface Owl visual decision engine\",\n",
    "      \"title_link\": \"https://surfaceowl.com\",\n",
    "      \"text\": \"Optional text that appears within the attachment\",\n",
    "      \"fields\": [\n",
    "        {\n",
    "          \"title\": \"Priority\",\n",
    "          \"value\": \"High\",\n",
    "          \"short\": \"true\"\n",
    "        }\n",
    "      ],\n",
    "      \"image_url\": \"https://surfaceowl.com/assets/img/surfaceowl.lockup.gradient.no.tagline.png\",\n",
    "      \"thumb_url\": \"https://surfaceowl.com/assets/img/surfaceowl.lockup.gradient.no.tagline.png\",\n",
    "      \"footer\": \"Surface Owl site\",\n",
    "      \"footer_icon\": \"https://surfaceowl.com/assets/img/surfaceowl.lockup.gradient.no.tagline.png\"\n",
    "    }\n",
    "  ]\n",
    "}\n",
    "\n",
    "# convert test message to json\n",
    "json_test_message = json.dumps(test_message, separators=(',',':'))\n",
    "\n",
    "print(json.dumps(json_test_message))"
   ]
  },
  {
   "cell_type": "code",
   "execution_count": 13,
   "metadata": {
    "ExecuteTime": {
     "end_time": "2019-01-23T23:52:51.455674Z",
     "start_time": "2019-01-23T23:52:51.191669Z"
    }
   },
   "outputs": [],
   "source": [
    "slack_message(json_test_message, channel_id)"
   ]
  },
  {
   "cell_type": "code",
   "execution_count": null,
   "metadata": {},
   "outputs": [],
   "source": []
  }
 ],
 "metadata": {
  "kernelspec": {
   "display_name": "Python 3",
   "language": "python",
   "name": "python3"
  },
  "language_info": {
   "codemirror_mode": {
    "name": "ipython",
    "version": 3
   },
   "file_extension": ".py",
   "mimetype": "text/x-python",
   "name": "python",
   "nbconvert_exporter": "python",
   "pygments_lexer": "ipython3",
   "version": "3.7.2"
  },
  "toc": {
   "base_numbering": 1,
   "nav_menu": {},
   "number_sections": true,
   "sideBar": true,
   "skip_h1_title": false,
   "title_cell": "Table of Contents",
   "title_sidebar": "Contents",
   "toc_cell": false,
   "toc_position": {},
   "toc_section_display": true,
   "toc_window_display": true
  },
  "varInspector": {
   "cols": {
    "lenName": 16,
    "lenType": 16,
    "lenVar": 40
   },
   "kernels_config": {
    "python": {
     "delete_cmd_postfix": "",
     "delete_cmd_prefix": "del ",
     "library": "var_list.py",
     "varRefreshCmd": "print(var_dic_list())"
    },
    "r": {
     "delete_cmd_postfix": ") ",
     "delete_cmd_prefix": "rm(",
     "library": "var_list.r",
     "varRefreshCmd": "cat(var_dic_list()) "
    }
   },
   "types_to_exclude": [
    "module",
    "function",
    "builtin_function_or_method",
    "instance",
    "_Feature"
   ],
   "window_display": false
  }
 },
 "nbformat": 4,
 "nbformat_minor": 2
}
